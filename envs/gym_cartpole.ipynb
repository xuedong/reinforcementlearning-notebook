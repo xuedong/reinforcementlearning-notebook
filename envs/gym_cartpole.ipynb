{
 "cells": [
  {
   "cell_type": "markdown",
   "metadata": {},
   "source": [
    "# An example of the Gym framework: CartPole\n",
    "\n",
    "Inspired from http://gym.openai.com/docs/. \n",
    "\n",
    "- If gym is not yet installed on your computer, just do pip install gym;\n",
    "- Or you can choose to install a kernelspec of your conda env if you don't want to install gym globally."
   ]
  },
  {
   "cell_type": "code",
   "execution_count": 1,
   "metadata": {},
   "outputs": [],
   "source": [
    "import gym \n",
    "import numpy as np"
   ]
  },
  {
   "cell_type": "markdown",
   "metadata": {},
   "source": [
    "## What is inside the environement \n",
    "\n",
    "The source code can be found [here](https://github.com/openai/gym/blob/master/gym/envs/classic_control/cartpole.py). "
   ]
  },
  {
   "cell_type": "code",
   "execution_count": 2,
   "metadata": {},
   "outputs": [
    {
     "name": "stdout",
     "output_type": "stream",
     "text": [
      "the action space is Discrete(2)\n",
      "the observation space (state space here) is Box(-3.4028234663852886e+38, 3.4028234663852886e+38, (4,), float32) \n",
      "\n",
      "range of the observation space:\n",
      "[-4.8000002e+00 -3.4028235e+38 -4.1887903e-01 -3.4028235e+38]\n",
      "[4.8000002e+00 3.4028235e+38 4.1887903e-01 3.4028235e+38]\n"
     ]
    }
   ],
   "source": [
    "import gym\n",
    "\n",
    "# load the Cart Pole environnement \n",
    "env = gym.make('CartPole-v1')\n",
    "env.reset()\n",
    "\n",
    "print(\"the action space is\", env.action_space) # two actions \n",
    "print(\"the observation space (state space here) is\", env.observation_space, \"\\n\") # a four-dimensional product of intervals\n",
    "\n",
    "print(\"range of the observation space:\")\n",
    "print(env.observation_space.low) \n",
    "print(env.observation_space.high)"
   ]
  },
  {
   "cell_type": "markdown",
   "metadata": {},
   "source": [
    "## Visualizing a random policy interacting with the environment "
   ]
  },
  {
   "cell_type": "code",
   "execution_count": 4,
   "metadata": {},
   "outputs": [
    {
     "name": "stdout",
     "output_type": "stream",
     "text": [
      "the number of finished episodes is  23\n",
      "the maximum duration of an episode is  45\n"
     ]
    }
   ],
   "source": [
    "episode = 0\n",
    "cumulative_reward = 0\n",
    "maximum_reward = 0\n",
    "\n",
    "for _ in range(500):\n",
    "    env.render()\n",
    "    # take a random action\n",
    "    obs, reward, done, obs = env.step(env.action_space.sample()) \n",
    "    if done:\n",
    "        env.reset()\n",
    "        episode +=1\n",
    "        if cumulative_reward > maximum_reward:\n",
    "            maximum_reward = cumulative_reward\n",
    "        cumulative_reward = 0\n",
    "    else:\n",
    "        cumulative_reward += 1\n",
    "        \n",
    "env.close()\n",
    "\n",
    "print(\"the number of finished episodes is \", episode)\n",
    "print(\"the maximum duration of an episode is \", maximum_reward)"
   ]
  },
  {
   "cell_type": "code",
   "execution_count": 4,
   "metadata": {},
   "outputs": [],
   "source": []
  }
 ],
 "metadata": {
  "@webio": {
   "lastCommId": null,
   "lastKernelId": null
  },
  "kernelspec": {
   "display_name": "rlberry",
   "language": "python",
   "name": "rlberry"
  },
  "language_info": {
   "codemirror_mode": {
    "name": "ipython",
    "version": 3
   },
   "file_extension": ".py",
   "mimetype": "text/x-python",
   "name": "python",
   "nbconvert_exporter": "python",
   "pygments_lexer": "ipython3",
   "version": "3.7.9"
  }
 },
 "nbformat": 4,
 "nbformat_minor": 2
}
